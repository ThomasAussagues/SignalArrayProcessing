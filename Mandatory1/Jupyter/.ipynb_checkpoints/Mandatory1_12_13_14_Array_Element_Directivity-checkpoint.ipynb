{
 "cells": [
  {
   "cell_type": "code",
   "execution_count": 3,
   "id": "ccc64dd8",
   "metadata": {},
   "outputs": [
    {
     "name": "stderr",
     "output_type": "stream",
     "text": [
      "/var/folders/cw/5xff940s6559c90nyhzx9s9m0000gn/T/ipykernel_11136/61741219.py:7: MatplotlibDeprecationWarning: Support for setting the 'text.latex.preamble' or 'pgf.preamble' rcParam to a list of strings is deprecated since 3.3 and will be removed two minor releases later; set it to a single string instead.\n",
      "  mpl.rcParams['text.latex.preamble'] = [r'\\usepackage{amsmath}']\n"
     ]
    }
   ],
   "source": [
    "import numpy as np\n",
    "import matplotlib.pyplot as plt\n",
    "from tqdm import tqdm\n",
    "import matplotlib.pylab as pl\n",
    "import matplotlib as mpl\n",
    "import scipy\n",
    "mpl.rcParams['text.latex.preamble'] = [r'\\usepackage{amsmath}']\n",
    "mpl.rcParams['figure.dpi']=300\n",
    "\n",
    "plt.rcParams.update({\n",
    "    \"text.usetex\": True,\n",
    "    \"font.size\" : 16,\n",
    "    \"font.family\": \"serif\",\n",
    "    \"font.serif\": 'cm10',\n",
    "    'savefig.bbox' : 'tight'})\n",
    "\n",
    "from utils.array import array_pattern,get_lobes_positions"
   ]
  },
  {
   "cell_type": "markdown",
   "id": "544ee7d2",
   "metadata": {},
   "source": [
    "## 12.\n",
    "\n",
    "Consider again the arrays in 1) (i.e. M = 24) with d = λ and d = 2λ. Assume that each element is of size d and include the element factor in the computation of the array pattern. Compare with the results in 1) and discuss the differences.\n"
   ]
  },
  {
   "cell_type": "code",
   "execution_count": 28,
   "id": "04f77053",
   "metadata": {},
   "outputs": [],
   "source": [
    "#Assume a linear array with M = 24 elements with unity weight. \n",
    "#Let the elements be uniformly spaced and try four different element spacings: d = λ/4, λ/2, λ, and 2λ. \n",
    "#Plot the results and discuss the differences as the inter-element distance varies.\n",
    "\n",
    "# Number of elements\n",
    "M=24\n",
    "# Wavelength\n",
    "lambda_ = 1#m\n",
    "# Elements positions vector\n",
    "positions = np.arange(0,M,1)*spacing\n",
    "# Weigths vector\n",
    "weights = np.ones(M)\n",
    "\n",
    "def element_aperture_pattern(k,d):\n",
    "    \n",
    "    return d*np.sinc(d*k/2)\n",
    "\n",
    "def compound_array_pattern(d,positions,weights,k_values):\n",
    "    \n",
    "    return element_aperture_pattern(k_values,d)*array_pattern(positions,weights,k_values)\n",
    "  \n",
    "# For d = lambda\n",
    "\n",
    "# Spacing\n",
    "\n",
    "spacing = lambda_\n",
    "\n",
    "k_values = np.arange(-1,1+0.001,0.001)*2*np.pi/lambda_\n",
    "\n",
    "pattern_composite_lambda = np.abs(compound_array_pattern(spacing,positions,weights,k_values))\n",
    "pattern_composite_lambda = 20*np.log10(pattern_composite_lambda/np.max(pattern_composite_lambda))\n",
    "\n",
    "pattern_lambda = np.abs(array_pattern(positions,weights,k_values))\n",
    "pattern_lambda = 20*np.log10(pattern_lambda/np.max(pattern_lambda))\n",
    "\n",
    "pattern_element_lambda = np.abs(element_aperture_pattern(k_values,spacing))\n",
    "pattern_element_lambda = 20*np.log10(pattern_element_lambda/np.max(pattern_element_lambda))\n",
    "\n",
    "# For d = 2*lambda\n",
    "\n",
    "# Spacing\n",
    "\n",
    "spacing = 2*lambda_\n",
    "\n",
    "pattern_composite_2lambda = np.abs(compound_array_pattern(spacing,positions,weights,k_values))\n",
    "pattern_composite_2lambda = 20*np.log10(pattern_composite_2lambda/np.max(pattern_composite_2lambda))\n",
    "\n",
    "pattern_2lambda = np.abs(array_pattern(positions,weights,k_values))\n",
    "pattern_2lambda = 20*np.log10(pattern_2lambda/np.max(pattern_2lambda))\n",
    "\n",
    "pattern_element_2lambda = np.abs(element_aperture_pattern(k_values,spacing))\n",
    "pattern_element_2lambda = 20*np.log10(pattern_element_2lambda/np.max(pattern_element_2lambda))"
   ]
  },
  {
   "cell_type": "markdown",
   "id": "7d76718b",
   "metadata": {},
   "source": [
    "## 13\n",
    "\n",
    "Apply steering to the array with the element respons in the previous paragraph and see what happens as the steering angle is increased. Comment on your results."
   ]
  },
  {
   "cell_type": "markdown",
   "id": "39b3033c",
   "metadata": {},
   "source": [
    "## 14\n",
    "\n",
    "Linear arrays with element spacing larger than λ/2 are regularly used in medical ultrasound imaging systems. Assume 24 unity weighted, regularly spaced elements and an element of size d equal to the element spacing. Design a linear array with as large aperture as possible that makes it possible to steer ±15◦ with acceptable sidelobe and grating lobe levels.\n"
   ]
  },
  {
   "cell_type": "code",
   "execution_count": null,
   "id": "530fa4ca",
   "metadata": {},
   "outputs": [],
   "source": []
  },
  {
   "cell_type": "code",
   "execution_count": null,
   "id": "7fcb8da5",
   "metadata": {},
   "outputs": [],
   "source": []
  }
 ],
 "metadata": {
  "kernelspec": {
   "display_name": "Python 3 (ipykernel)",
   "language": "python",
   "name": "python3"
  },
  "language_info": {
   "codemirror_mode": {
    "name": "ipython",
    "version": 3
   },
   "file_extension": ".py",
   "mimetype": "text/x-python",
   "name": "python",
   "nbconvert_exporter": "python",
   "pygments_lexer": "ipython3",
   "version": "3.9.7"
  }
 },
 "nbformat": 4,
 "nbformat_minor": 5
}
